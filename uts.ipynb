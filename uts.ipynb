{
  "nbformat": 4,
  "nbformat_minor": 0,
  "metadata": {
    "colab": {
      "name": "uts.ipynb",
      "provenance": [],
      "collapsed_sections": [],
      "authorship_tag": "ABX9TyNoYBhGChDIaIts6/fnr0qL",
      "include_colab_link": true
    },
    "kernelspec": {
      "name": "python3",
      "display_name": "Python 3"
    },
    "language_info": {
      "name": "python"
    }
  },
  "cells": [
    {
      "cell_type": "markdown",
      "metadata": {
        "id": "view-in-github",
        "colab_type": "text"
      },
      "source": [
        "<a href=\"https://colab.research.google.com/github/dimasbaguss/Belajar_remote_git/blob/main/uts.ipynb\" target=\"_parent\"><img src=\"https://colab.research.google.com/assets/colab-badge.svg\" alt=\"Open In Colab\"/></a>"
      ]
    },
    {
      "cell_type": "markdown",
      "source": [
        "Import library"
      ],
      "metadata": {
        "id": "wYnA9vsUz7K4"
      }
    },
    {
      "cell_type": "code",
      "execution_count": 2,
      "metadata": {
        "id": "LJR1VxBFybyl"
      },
      "outputs": [],
      "source": [
        "import numpy as np\n",
        "import matplotlib.pyplot as plt\n",
        "import pandas as pd "
      ]
    },
    {
      "cell_type": "markdown",
      "source": [
        "Menampung file csv dalam variable dataset"
      ],
      "metadata": {
        "id": "oBRq6yO42q7Q"
      }
    },
    {
      "cell_type": "code",
      "source": [
        "dataset = pd.read_csv('tes_knn.csv')"
      ],
      "metadata": {
        "id": "U3Frild50qAD"
      },
      "execution_count": 3,
      "outputs": []
    },
    {
      "cell_type": "code",
      "source": [
        "dataset.head()"
      ],
      "metadata": {
        "id": "VsrbnX0N2ilR",
        "colab": {
          "base_uri": "https://localhost:8080/",
          "height": 206
        },
        "outputId": "fd2e8403-2d13-4af6-f700-29c64baa3b66"
      },
      "execution_count": 4,
      "outputs": [
        {
          "output_type": "execute_result",
          "data": {
            "text/plain": [
              "                          stasiun  latitude  longtitude  IDWMO    kabupaten  \\\n",
              "0       stasiun meteorologi paloh     1.740      109.30  96535       sambas   \n",
              "1  stasiun meteorologi nangapinoh    -0.420      111.47  96557       melawi   \n",
              "2      stasiun meteorologi susilo     0.060      111.47  96559      sintang   \n",
              "3    stasiun meteorologi pangsuma     0.840      112.93  96565  kapuas hulu   \n",
              "4     stasiun meteorologi supadio   -14.206      109.45  96581    kubu raya   \n",
              "\n",
              "   terdeteksi_kebakaran  \n",
              "0                     0  \n",
              "1                     1  \n",
              "2                     1  \n",
              "3                     0  \n",
              "4                     0  "
            ],
            "text/html": [
              "\n",
              "  <div id=\"df-666a3450-9ef4-41aa-b7da-5c0a19ff8311\">\n",
              "    <div class=\"colab-df-container\">\n",
              "      <div>\n",
              "<style scoped>\n",
              "    .dataframe tbody tr th:only-of-type {\n",
              "        vertical-align: middle;\n",
              "    }\n",
              "\n",
              "    .dataframe tbody tr th {\n",
              "        vertical-align: top;\n",
              "    }\n",
              "\n",
              "    .dataframe thead th {\n",
              "        text-align: right;\n",
              "    }\n",
              "</style>\n",
              "<table border=\"1\" class=\"dataframe\">\n",
              "  <thead>\n",
              "    <tr style=\"text-align: right;\">\n",
              "      <th></th>\n",
              "      <th>stasiun</th>\n",
              "      <th>latitude</th>\n",
              "      <th>longtitude</th>\n",
              "      <th>IDWMO</th>\n",
              "      <th>kabupaten</th>\n",
              "      <th>terdeteksi_kebakaran</th>\n",
              "    </tr>\n",
              "  </thead>\n",
              "  <tbody>\n",
              "    <tr>\n",
              "      <th>0</th>\n",
              "      <td>stasiun meteorologi paloh</td>\n",
              "      <td>1.740</td>\n",
              "      <td>109.30</td>\n",
              "      <td>96535</td>\n",
              "      <td>sambas</td>\n",
              "      <td>0</td>\n",
              "    </tr>\n",
              "    <tr>\n",
              "      <th>1</th>\n",
              "      <td>stasiun meteorologi nangapinoh</td>\n",
              "      <td>-0.420</td>\n",
              "      <td>111.47</td>\n",
              "      <td>96557</td>\n",
              "      <td>melawi</td>\n",
              "      <td>1</td>\n",
              "    </tr>\n",
              "    <tr>\n",
              "      <th>2</th>\n",
              "      <td>stasiun meteorologi susilo</td>\n",
              "      <td>0.060</td>\n",
              "      <td>111.47</td>\n",
              "      <td>96559</td>\n",
              "      <td>sintang</td>\n",
              "      <td>1</td>\n",
              "    </tr>\n",
              "    <tr>\n",
              "      <th>3</th>\n",
              "      <td>stasiun meteorologi pangsuma</td>\n",
              "      <td>0.840</td>\n",
              "      <td>112.93</td>\n",
              "      <td>96565</td>\n",
              "      <td>kapuas hulu</td>\n",
              "      <td>0</td>\n",
              "    </tr>\n",
              "    <tr>\n",
              "      <th>4</th>\n",
              "      <td>stasiun meteorologi supadio</td>\n",
              "      <td>-14.206</td>\n",
              "      <td>109.45</td>\n",
              "      <td>96581</td>\n",
              "      <td>kubu raya</td>\n",
              "      <td>0</td>\n",
              "    </tr>\n",
              "  </tbody>\n",
              "</table>\n",
              "</div>\n",
              "      <button class=\"colab-df-convert\" onclick=\"convertToInteractive('df-666a3450-9ef4-41aa-b7da-5c0a19ff8311')\"\n",
              "              title=\"Convert this dataframe to an interactive table.\"\n",
              "              style=\"display:none;\">\n",
              "        \n",
              "  <svg xmlns=\"http://www.w3.org/2000/svg\" height=\"24px\"viewBox=\"0 0 24 24\"\n",
              "       width=\"24px\">\n",
              "    <path d=\"M0 0h24v24H0V0z\" fill=\"none\"/>\n",
              "    <path d=\"M18.56 5.44l.94 2.06.94-2.06 2.06-.94-2.06-.94-.94-2.06-.94 2.06-2.06.94zm-11 1L8.5 8.5l.94-2.06 2.06-.94-2.06-.94L8.5 2.5l-.94 2.06-2.06.94zm10 10l.94 2.06.94-2.06 2.06-.94-2.06-.94-.94-2.06-.94 2.06-2.06.94z\"/><path d=\"M17.41 7.96l-1.37-1.37c-.4-.4-.92-.59-1.43-.59-.52 0-1.04.2-1.43.59L10.3 9.45l-7.72 7.72c-.78.78-.78 2.05 0 2.83L4 21.41c.39.39.9.59 1.41.59.51 0 1.02-.2 1.41-.59l7.78-7.78 2.81-2.81c.8-.78.8-2.07 0-2.86zM5.41 20L4 18.59l7.72-7.72 1.47 1.35L5.41 20z\"/>\n",
              "  </svg>\n",
              "      </button>\n",
              "      \n",
              "  <style>\n",
              "    .colab-df-container {\n",
              "      display:flex;\n",
              "      flex-wrap:wrap;\n",
              "      gap: 12px;\n",
              "    }\n",
              "\n",
              "    .colab-df-convert {\n",
              "      background-color: #E8F0FE;\n",
              "      border: none;\n",
              "      border-radius: 50%;\n",
              "      cursor: pointer;\n",
              "      display: none;\n",
              "      fill: #1967D2;\n",
              "      height: 32px;\n",
              "      padding: 0 0 0 0;\n",
              "      width: 32px;\n",
              "    }\n",
              "\n",
              "    .colab-df-convert:hover {\n",
              "      background-color: #E2EBFA;\n",
              "      box-shadow: 0px 1px 2px rgba(60, 64, 67, 0.3), 0px 1px 3px 1px rgba(60, 64, 67, 0.15);\n",
              "      fill: #174EA6;\n",
              "    }\n",
              "\n",
              "    [theme=dark] .colab-df-convert {\n",
              "      background-color: #3B4455;\n",
              "      fill: #D2E3FC;\n",
              "    }\n",
              "\n",
              "    [theme=dark] .colab-df-convert:hover {\n",
              "      background-color: #434B5C;\n",
              "      box-shadow: 0px 1px 3px 1px rgba(0, 0, 0, 0.15);\n",
              "      filter: drop-shadow(0px 1px 2px rgba(0, 0, 0, 0.3));\n",
              "      fill: #FFFFFF;\n",
              "    }\n",
              "  </style>\n",
              "\n",
              "      <script>\n",
              "        const buttonEl =\n",
              "          document.querySelector('#df-666a3450-9ef4-41aa-b7da-5c0a19ff8311 button.colab-df-convert');\n",
              "        buttonEl.style.display =\n",
              "          google.colab.kernel.accessAllowed ? 'block' : 'none';\n",
              "\n",
              "        async function convertToInteractive(key) {\n",
              "          const element = document.querySelector('#df-666a3450-9ef4-41aa-b7da-5c0a19ff8311');\n",
              "          const dataTable =\n",
              "            await google.colab.kernel.invokeFunction('convertToInteractive',\n",
              "                                                     [key], {});\n",
              "          if (!dataTable) return;\n",
              "\n",
              "          const docLinkHtml = 'Like what you see? Visit the ' +\n",
              "            '<a target=\"_blank\" href=https://colab.research.google.com/notebooks/data_table.ipynb>data table notebook</a>'\n",
              "            + ' to learn more about interactive tables.';\n",
              "          element.innerHTML = '';\n",
              "          dataTable['output_type'] = 'display_data';\n",
              "          await google.colab.output.renderOutput(dataTable, element);\n",
              "          const docLink = document.createElement('div');\n",
              "          docLink.innerHTML = docLinkHtml;\n",
              "          element.appendChild(docLink);\n",
              "        }\n",
              "      </script>\n",
              "    </div>\n",
              "  </div>\n",
              "  "
            ]
          },
          "metadata": {},
          "execution_count": 4
        }
      ]
    },
    {
      "cell_type": "markdown",
      "source": [
        "Ambil lokasi yg digunakan dengan dataset.iloc"
      ],
      "metadata": {
        "id": "xgUMK_JE2_2a"
      }
    },
    {
      "cell_type": "code",
      "source": [
        "x = dataset.iloc[:,[1,2]].values\n",
        "y = dataset.iloc[:, -1].values"
      ],
      "metadata": {
        "id": "6NKzBpp-26n3"
      },
      "execution_count": 5,
      "outputs": []
    },
    {
      "cell_type": "code",
      "source": [
        "print(y)"
      ],
      "metadata": {
        "id": "HbeXoxMK3ui1",
        "colab": {
          "base_uri": "https://localhost:8080/"
        },
        "outputId": "61a5adca-9e47-4dc5-dc8b-833f839e1ab5"
      },
      "execution_count": 6,
      "outputs": [
        {
          "output_type": "stream",
          "name": "stdout",
          "text": [
            "[0 1 1 0 0 0 1 1 1 0 0 1 0 1 0 1 0 1 1 0 0 0 1 1 1 1 0 0 0 1 0 1 1 0 0 0 0\n",
            " 1 1 0]\n"
          ]
        }
      ]
    },
    {
      "cell_type": "markdown",
      "source": [
        "Bagi data training dan data tes (25% untuk testing)"
      ],
      "metadata": {
        "id": "NpjSFBy16g5q"
      }
    },
    {
      "cell_type": "code",
      "source": [
        "from sklearn.model_selection import train_test_split\n",
        "x_train, x_test, y_train, y_test = train_test_split(x, y, test_size = 0.25, random_state = 0)"
      ],
      "metadata": {
        "id": "npBWDFlP6etH"
      },
      "execution_count": 7,
      "outputs": []
    },
    {
      "cell_type": "code",
      "source": [
        "print(x_test)"
      ],
      "metadata": {
        "id": "_lTbjIh4AsiA",
        "colab": {
          "base_uri": "https://localhost:8080/"
        },
        "outputId": "cc1f2554-46d9-476c-fd88-e86a54ab9380"
      },
      "execution_count": 8,
      "outputs": [
        {
          "output_type": "stream",
          "name": "stdout",
          "text": [
            "[[ -1.9   100.77 ]\n",
            " [ -0.116 100.33 ]\n",
            " [ -2.12   99.8  ]\n",
            " [-14.206 109.45 ]\n",
            " [ -2.12   97.8  ]\n",
            " [ -2.12   99.8  ]\n",
            " [ -1.987 100.91 ]\n",
            " [  1.68   66.89 ]\n",
            " [ -0.116 100.1  ]\n",
            " [ -0.116 108.99 ]]\n"
          ]
        }
      ]
    },
    {
      "cell_type": "markdown",
      "source": [
        "Hitung data x_train dan x_test"
      ],
      "metadata": {
        "id": "ZAAvaiHAPwDz"
      }
    },
    {
      "cell_type": "code",
      "source": [
        "len(x_train)"
      ],
      "metadata": {
        "id": "WFU6k9b2ORA2",
        "colab": {
          "base_uri": "https://localhost:8080/"
        },
        "outputId": "56cfec11-ed1c-4ff9-8636-a7c9e206140c"
      },
      "execution_count": 9,
      "outputs": [
        {
          "output_type": "execute_result",
          "data": {
            "text/plain": [
              "30"
            ]
          },
          "metadata": {},
          "execution_count": 9
        }
      ]
    },
    {
      "cell_type": "code",
      "source": [
        "len(x_test)"
      ],
      "metadata": {
        "id": "zUiAaKtjOrG0",
        "colab": {
          "base_uri": "https://localhost:8080/"
        },
        "outputId": "93359ebf-83a6-4b75-a1e5-7fe986bb494e"
      },
      "execution_count": 10,
      "outputs": [
        {
          "output_type": "execute_result",
          "data": {
            "text/plain": [
              "10"
            ]
          },
          "metadata": {},
          "execution_count": 10
        }
      ]
    },
    {
      "cell_type": "markdown",
      "source": [
        "Hitung data y_train dan y_test"
      ],
      "metadata": {
        "id": "UBi20F7vP49l"
      }
    },
    {
      "cell_type": "code",
      "source": [
        "len(y_train)"
      ],
      "metadata": {
        "id": "xeW2bC1_OYZ2",
        "colab": {
          "base_uri": "https://localhost:8080/"
        },
        "outputId": "6d0e7def-d5ef-4a72-9d4b-ba322f00ef72"
      },
      "execution_count": 11,
      "outputs": [
        {
          "output_type": "execute_result",
          "data": {
            "text/plain": [
              "30"
            ]
          },
          "metadata": {},
          "execution_count": 11
        }
      ]
    },
    {
      "cell_type": "code",
      "source": [
        "len(y_test)"
      ],
      "metadata": {
        "id": "3xMcsqXgOwBe",
        "colab": {
          "base_uri": "https://localhost:8080/"
        },
        "outputId": "558afef8-7384-4e20-fe68-b14dfcf1ff38"
      },
      "execution_count": 12,
      "outputs": [
        {
          "output_type": "execute_result",
          "data": {
            "text/plain": [
              "10"
            ]
          },
          "metadata": {},
          "execution_count": 12
        }
      ]
    },
    {
      "cell_type": "markdown",
      "source": [
        "Lakukan scalling dengan StandardScaler"
      ],
      "metadata": {
        "id": "EvzmTUdHQpXY"
      }
    },
    {
      "cell_type": "code",
      "source": [
        "from sklearn.preprocessing import StandardScaler\n",
        "sc = StandardScaler()\n",
        "x_train = sc.fit_transform(x_train)\n",
        "x_test = sc.transform(x_test)"
      ],
      "metadata": {
        "id": "cnM19tikQs65"
      },
      "execution_count": 13,
      "outputs": []
    },
    {
      "cell_type": "code",
      "source": [
        "print(x_train)"
      ],
      "metadata": {
        "id": "lKm5RamnRAH8",
        "colab": {
          "base_uri": "https://localhost:8080/"
        },
        "outputId": "198ab58a-446f-44a6-bc12-c99fdb49b63b"
      },
      "execution_count": 14,
      "outputs": [
        {
          "output_type": "stream",
          "name": "stdout",
          "text": [
            "[[ 1.42008255 -2.02181379]\n",
            " [-2.06265654 -0.86474955]\n",
            " [-0.58939339  0.17462312]\n",
            " [ 0.56341122  1.13884332]\n",
            " [ 1.42008255 -2.03528452]\n",
            " [-0.52011936  0.38731875]\n",
            " [-2.06265654 -1.02214432]\n",
            " [ 0.47034076  0.41071527]\n",
            " [-2.06265654 -1.03561504]\n",
            " [ 0.47034076  0.33981672]\n",
            " [ 0.47034076  0.16966022]\n",
            " [ 0.57134337  0.97719464]\n",
            " [ 1.60040657 -2.0700248 ]\n",
            " [-0.51906174  0.3894457 ]\n",
            " [ 0.47034076 -0.92855824]\n",
            " [-0.42017437  1.0324955 ]\n",
            " [-0.58939339  0.12783008]\n",
            " [ 0.30958268  1.13884332]\n",
            " [-0.51906174  0.326346  ]\n",
            " [ 0.47034076  0.34974252]\n",
            " [ 1.42008255 -2.0310306 ]\n",
            " [-0.58939339  0.11365037]\n",
            " [ 0.51581837  0.98782942]\n",
            " [-0.58939339  0.17675007]\n",
            " [-0.51906174  0.38235585]\n",
            " [-0.51906174  0.375266  ]\n",
            " [-0.51906174  0.38731875]\n",
            " [-0.51906174  0.39582657]\n",
            " [ 0.9758826   1.24235519]\n",
            " [ 1.45181111  0.98499348]]\n"
          ]
        }
      ]
    },
    {
      "cell_type": "markdown",
      "source": [
        "Panggil function KNN untuk dilakukan klasifikasi"
      ],
      "metadata": {
        "id": "gTi-zhcsgsKw"
      }
    },
    {
      "cell_type": "code",
      "source": [
        "from sklearn.neighbors import KNeighborsClassifier\n",
        "classifier = KNeighborsClassifier(n_neighbors = 3, metric = 'euclidean', p = 2)\n",
        "classifier.fit(x_train, y_train)"
      ],
      "metadata": {
        "colab": {
          "base_uri": "https://localhost:8080/"
        },
        "id": "WlaBP5RPgqjV",
        "outputId": "96b5e19c-1b1c-4325-c556-7cef43db3dff"
      },
      "execution_count": 15,
      "outputs": [
        {
          "output_type": "execute_result",
          "data": {
            "text/plain": [
              "KNeighborsClassifier(metric='euclidean', n_neighbors=3)"
            ]
          },
          "metadata": {},
          "execution_count": 15
        }
      ]
    },
    {
      "cell_type": "markdown",
      "source": [
        "Tentukan prediksi"
      ],
      "metadata": {
        "id": "Lk19Is5DhsdV"
      }
    },
    {
      "cell_type": "code",
      "source": [
        "y_predict = classifier.predict(x_test)"
      ],
      "metadata": {
        "id": "9hhr-OKVhw0Y"
      },
      "execution_count": 16,
      "outputs": []
    },
    {
      "cell_type": "markdown",
      "source": [
        "Hitung evaluasi dengan confusion_matrix"
      ],
      "metadata": {
        "id": "LPQdCL4vh5u4"
      }
    },
    {
      "cell_type": "code",
      "source": [
        "from sklearn.metrics import confusion_matrix\n",
        "cm = confusion_matrix(y_test, y_predict)\n",
        "print(cm)"
      ],
      "metadata": {
        "colab": {
          "base_uri": "https://localhost:8080/"
        },
        "id": "CcKbyXOZiDMS",
        "outputId": "d4d628b1-bd5a-4dd5-84e2-084884f96921"
      },
      "execution_count": 17,
      "outputs": [
        {
          "output_type": "stream",
          "name": "stdout",
          "text": [
            "[[3 1]\n",
            " [5 1]]\n"
          ]
        }
      ]
    },
    {
      "cell_type": "markdown",
      "source": [
        "Melihat visual persebaran data (training)"
      ],
      "metadata": {
        "id": "tYWIjecUjAlU"
      }
    },
    {
      "cell_type": "code",
      "source": [
        "from matplotlib.colors import ListedColormap\n",
        "x_set, y_set = x_train, y_train\n",
        "\n",
        "# Membuat kotak gambar\n",
        "# x1 untuk menampilkan latitude, dimulai dari kolom pertama x_train\n",
        "# x2 untuk menampilkan longtitude, dimulai dari kolom kedua x_train\n",
        "x1, x2 = np.meshgrid(np.arange(start = x_set[:, 0].min()-1, stop = x_set[:, 0].max()+1, step = 0.01),\n",
        "                     np.arange(start = x_set[:, 1].min()-1, stop = x_set[:, 1].max()+1, step = 0.01))\n",
        "plt.contourf(x1, x2, classifier.predict(np.array([x1.ravel(), x2.ravel()]).T).reshape(x1.shape),\n",
        "             alpha = 0.75, cmap = ListedColormap(('red', 'green')))\n",
        "\n",
        "# range dari max ke min\n",
        "plt.xlim(x1.min(), x1.max())\n",
        "plt.ylim(x2.min(), x2.max())\n",
        "for i, j in enumerate (np.unique(y_set)):\n",
        "  # scatter untuk membuat titik\n",
        "  plt.scatter(x_set[y_set == j, 0], x_set[y_set == j, 1],\n",
        "              c = ListedColormap(('red', 'green'))(i), label = j)\n",
        "  plt.title('Klasifikasi Kebakaran Hutan dengan KNN (Data Training)')\n",
        "  plt.xlabel('Latitude')\n",
        "  plt.ylabel('Longtitude')\n",
        "  plt.legend()\n",
        "  # menampilkan gambar\n",
        "  plt.show()"
      ],
      "metadata": {
        "colab": {
          "base_uri": "https://localhost:8080/",
          "height": 629
        },
        "id": "RRUrLVrkjYiK",
        "outputId": "d8a8fe75-7799-4eec-c6ba-b2b86f02d297"
      },
      "execution_count": 18,
      "outputs": [
        {
          "output_type": "stream",
          "name": "stderr",
          "text": [
            "*c* argument looks like a single numeric RGB or RGBA sequence, which should be avoided as value-mapping will have precedence in case its length matches with *x* & *y*.  Please use the *color* keyword-argument or provide a 2-D array with a single row if you intend to specify the same RGB or RGBA value for all points.\n"
          ]
        },
        {
          "output_type": "display_data",
          "data": {
            "text/plain": [
              "<Figure size 432x288 with 1 Axes>"
            ],
            "image/png": "[encoded data removed]"
          },
          "metadata": {
            "needs_background": "light"
          }
        },
        {
          "output_type": "stream",
          "name": "stderr",
          "text": [
            "*c* argument looks like a single numeric RGB or RGBA sequence, which should be avoided as value-mapping will have precedence in case its length matches with *x* & *y*.  Please use the *color* keyword-argument or provide a 2-D array with a single row if you intend to specify the same RGB or RGBA value for all points.\n"
          ]
        },
        {
          "output_type": "display_data",
          "data": {
            "text/plain": [
              "<Figure size 432x288 with 1 Axes>"
            ],
            "image/png": "[encoded data removed]"
          },
          "metadata": {
            "needs_background": "light"
          }
        }
      ]
    },
    {
      "cell_type": "markdown",
      "source": [
        "Melihat visualisasi persebaran data testing"
      ],
      "metadata": {
        "id": "WjK4VrIcoxXk"
      }
    },
    {
      "cell_type": "code",
      "source": [
        "from matplotlib.colors import ListedColormap\n",
        "x_set, y_set = x_test, y_test\n",
        "x1, x2 = np.meshgrid(np.arange(start = x_set[:, 0].min()-1, stop = x_set[:, 0].max()+1, step = 0.01),\n",
        "                     np.arange(start = x_set[:, 1].min()-1, stop = x_set[:, 1].max()+1, step = 0.01))\n",
        "plt.contourf(x1, x2, classifier.predict(np.array([x1.ravel(), x2.ravel()]).T).reshape(x1.shape),\n",
        "             alpha = 0.75, cmap = ListedColormap(('red', 'green')))\n",
        "plt.xlim(x1.min(), x1.max())\n",
        "plt.ylim(x2.min(), x2.max())\n",
        "for i, j in enumerate (np.unique(y_set)):\n",
        "  plt.scatter(x_set[y_set == j, 0], x_set[y_set == j, 1],\n",
        "              c = ListedColormap(('red', 'green'))(i), label = j)\n",
        "  plt.title('Klasifikasi Kebakaran Hutan dengan KNN (Data Testing)')\n",
        "  plt.xlabel('Latitude')\n",
        "  plt.ylabel('Longtitude')\n",
        "  plt.legend()\n",
        "  plt.show()"
      ],
      "metadata": {
        "id": "Kfj2gnTSo8z8",
        "colab": {
          "base_uri": "https://localhost:8080/",
          "height": 611
        },
        "outputId": "7d0669df-6641-417f-9c10-6801215d4024"
      },
      "execution_count": 19,
      "outputs": [
        {
          "output_type": "display_data",
          "data": {
            "text/plain": [
              "<Figure size 432x288 with 1 Axes>"
            ],
            "image/png": "[encoded data removed]"
          },
          "metadata": {
            "needs_background": "light"
          }
        },
        {
          "output_type": "stream",
          "name": "stderr",
          "text": [
            "*c* argument looks like a single numeric RGB or RGBA sequence, which should be avoided as value-mapping will have precedence in case its length matches with *x* & *y*.  Please use the *color* keyword-argument or provide a 2-D array with a single row if you intend to specify the same RGB or RGBA value for all points.\n"
          ]
        },
        {
          "output_type": "display_data",
          "data": {
            "text/plain": [
              "<Figure size 432x288 with 1 Axes>"
            ],
            "image/png": "[encoded data removed]"
          },
          "metadata": {
            "needs_background": "light"
          }
        }
      ]
    }
  ]
}